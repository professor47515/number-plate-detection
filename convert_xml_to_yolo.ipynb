{
 "cells": [
  {
   "cell_type": "code",
   "execution_count": 1,
   "id": "23ebc136",
   "metadata": {},
   "outputs": [
    {
     "name": "stdout",
     "output_type": "stream",
     "text": [
      "hello\n"
     ]
    }
   ],
   "source": [
    "print('hello')"
   ]
  },
  {
   "cell_type": "code",
   "execution_count": 2,
   "id": "2d44b15b",
   "metadata": {},
   "outputs": [],
   "source": [
    "import os\n",
    "import xml.etree.ElementTree as ET\n",
    "import shutil\n",
    "import random"
   ]
  },
  {
   "cell_type": "code",
   "execution_count": 3,
   "id": "7485aef2",
   "metadata": {},
   "outputs": [],
   "source": [
    "ANNOTATIONS_DIR = 'annotations_xml/'\n",
    "IMAGES_DIR = 'images_original/'\n",
    "OUTPUT_DIR = 'dataset/'"
   ]
  },
  {
   "cell_type": "code",
   "execution_count": 4,
   "id": "4f33e023",
   "metadata": {},
   "outputs": [],
   "source": [
    "# Create YOLO folders\n",
    "os.makedirs(OUTPUT_DIR + 'images/train', exist_ok=True)\n",
    "os.makedirs(OUTPUT_DIR + 'images/val', exist_ok=True)\n",
    "os.makedirs(OUTPUT_DIR + 'labels/train', exist_ok=True)\n",
    "os.makedirs(OUTPUT_DIR + 'labels/val', exist_ok=True)"
   ]
  },
  {
   "cell_type": "code",
   "execution_count": 5,
   "id": "3ddef132",
   "metadata": {},
   "outputs": [],
   "source": [
    "# Splitting\n",
    "\n",
    "xml_files = [f for f in os.listdir(ANNOTATIONS_DIR) if f.endswith('.xml')]\n",
    "random.shuffle(xml_files)\n",
    "split_idx = int(0.8 * len(xml_files))\n",
    "train_files = xml_files[:split_idx]\n",
    "val_files = xml_files[split_idx:]"
   ]
  },
  {
   "cell_type": "code",
   "execution_count": 6,
   "id": "6950a59f",
   "metadata": {},
   "outputs": [],
   "source": [
    "def convert_annotation(xml_file, output_txt):\n",
    "    tree = ET.parse(xml_file)\n",
    "    root = tree.getroot()\n",
    "\n",
    "    size = root.find('size')\n",
    "    img_w = int(size.find('width').text)\n",
    "    img_h = int(size.find('height').text)\n",
    "\n",
    "    yolo_lines = []\n",
    "\n",
    "    for obj in root.findall('object'):\n",
    "        cls_name = obj.find('name').text\n",
    "        class_id = 0  # only one class: number_plate\n",
    "\n",
    "        bbox = obj.find('bndbox')\n",
    "        xmin = int(float(bbox.find('xmin').text))\n",
    "        ymin = int(float(bbox.find('ymin').text))\n",
    "        xmax = int(float(bbox.find('xmax').text))\n",
    "        ymax = int(float(bbox.find('ymax').text))\n",
    "\n",
    "        x_center = (xmin + xmax) / 2.0 / img_w\n",
    "        y_center = (ymin + ymax) / 2.0 / img_h\n",
    "        width = (xmax - xmin) / img_w\n",
    "        height = (ymax - ymin) / img_h\n",
    "\n",
    "        line = f\"{class_id} {x_center:.6f} {y_center:.6f} {width:.6f} {height:.6f}\"\n",
    "        yolo_lines.append(line)\n",
    "\n",
    "    with open(output_txt, 'w') as f:\n",
    "        for line in yolo_lines:\n",
    "            f.write(line + '\\n')\n"
   ]
  },
  {
   "cell_type": "code",
   "execution_count": 7,
   "id": "6ff98fee",
   "metadata": {},
   "outputs": [
    {
     "name": "stdout",
     "output_type": "stream",
     "text": [
      "✅ Dataset prepared successfully and labels converted!\n"
     ]
    }
   ],
   "source": [
    "# Convert and copy files\n",
    "for xml_file in xml_files:\n",
    "    img_base = os.path.splitext(xml_file)[0]\n",
    "\n",
    "    # --- check for jpg or png ---\n",
    "    if os.path.exists(IMAGES_DIR + img_base + '.jpg'):\n",
    "        img_file = img_base + '.jpg'\n",
    "    elif os.path.exists(IMAGES_DIR + img_base + '.png'):\n",
    "        img_file = img_base + '.png'\n",
    "    else:\n",
    "        print(f\"Image file for {xml_file} not found (jpg or png)\")\n",
    "        continue\n",
    "\n",
    "    if xml_file in train_files:\n",
    "        img_out = OUTPUT_DIR + 'images/train/' + img_file\n",
    "        label_out = OUTPUT_DIR + 'labels/train/' + img_base + '.txt'\n",
    "    else:\n",
    "        img_out = OUTPUT_DIR + 'images/val/' + img_file\n",
    "        label_out = OUTPUT_DIR + 'labels/val/' + img_base + '.txt'\n",
    "\n",
    "    shutil.copy(IMAGES_DIR + img_file, img_out)\n",
    "    convert_annotation(ANNOTATIONS_DIR + xml_file, label_out)\n",
    "\n",
    "print('✅ Dataset prepared successfully and labels converted!')"
   ]
  },
  {
   "cell_type": "code",
   "execution_count": null,
   "id": "ef3f0c4f",
   "metadata": {},
   "outputs": [],
   "source": []
  }
 ],
 "metadata": {
  "kernelspec": {
   "display_name": "Python 3",
   "language": "python",
   "name": "python3"
  },
  "language_info": {
   "codemirror_mode": {
    "name": "ipython",
    "version": 3
   },
   "file_extension": ".py",
   "mimetype": "text/x-python",
   "name": "python",
   "nbconvert_exporter": "python",
   "pygments_lexer": "ipython3",
   "version": "3.10.0"
  }
 },
 "nbformat": 4,
 "nbformat_minor": 5
}
